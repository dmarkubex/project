{
 "cells": [
  {
   "cell_type": "code",
   "execution_count": 1,
   "id": "524fd8c4-fea1-4cb7-889d-d59816808d04",
   "metadata": {},
   "outputs": [
    {
     "ename": "ModuleNotFoundError",
     "evalue": "No module named 'vanna.remote'; 'vanna' is not a package",
     "output_type": "error",
     "traceback": [
      "\u001b[0;31m---------------------------------------------------------------------------\u001b[0m",
      "\u001b[0;31mModuleNotFoundError\u001b[0m                       Traceback (most recent call last)",
      "Cell \u001b[0;32mIn[1], line 1\u001b[0m\n\u001b[0;32m----> 1\u001b[0m \u001b[38;5;28;01mfrom\u001b[39;00m \u001b[38;5;21;01mvanna\u001b[39;00m\u001b[38;5;21;01m.\u001b[39;00m\u001b[38;5;21;01mremote\u001b[39;00m \u001b[38;5;28;01mimport\u001b[39;00m VannaDefault\n\u001b[1;32m      2\u001b[0m vn \u001b[38;5;241m=\u001b[39m VannaDefault(model\u001b[38;5;241m=\u001b[39m\u001b[38;5;124m'\u001b[39m\u001b[38;5;124mchinook\u001b[39m\u001b[38;5;124m'\u001b[39m, api_key\u001b[38;5;241m=\u001b[39m\u001b[38;5;124m'\u001b[39m\u001b[38;5;124m5a3ee2062e8d4818ad1dce27df9dc3e8\u001b[39m\u001b[38;5;124m'\u001b[39m)\n\u001b[1;32m      3\u001b[0m vn\u001b[38;5;241m.\u001b[39mconnect_to_sqlite(\u001b[38;5;124m'\u001b[39m\u001b[38;5;124mhttps://vanna.ai/Chinook.sqlite\u001b[39m\u001b[38;5;124m'\u001b[39m)\n",
      "File \u001b[0;32m~/project/vanna.py:1\u001b[0m\n\u001b[0;32m----> 1\u001b[0m \u001b[38;5;28;01mfrom\u001b[39;00m \u001b[38;5;21;01mvanna\u001b[39;00m\u001b[38;5;21;01m.\u001b[39;00m\u001b[38;5;21;01mremote\u001b[39;00m \u001b[38;5;28;01mimport\u001b[39;00m VannaDefault\n\u001b[1;32m      2\u001b[0m vn \u001b[38;5;241m=\u001b[39m VannaDefault(model\u001b[38;5;241m=\u001b[39m\u001b[38;5;124m'\u001b[39m\u001b[38;5;124mchinook\u001b[39m\u001b[38;5;124m'\u001b[39m, api_key\u001b[38;5;241m=\u001b[39m\u001b[38;5;124m'\u001b[39m\u001b[38;5;124m5a3ee2062e8d4818ad1dce27df9dc3e8\u001b[39m\u001b[38;5;124m'\u001b[39m)\n\u001b[1;32m      3\u001b[0m vn\u001b[38;5;241m.\u001b[39mconnect_to_sqlite(\u001b[38;5;124m'\u001b[39m\u001b[38;5;124mhttps://vanna.ai/Chinook.sqlite\u001b[39m\u001b[38;5;124m'\u001b[39m)\n",
      "\u001b[0;31mModuleNotFoundError\u001b[0m: No module named 'vanna.remote'; 'vanna' is not a package"
     ]
    }
   ],
   "source": [
    "from vanna.remote import VannaDefault\n",
    "vn = VannaDefault(model='chinook', api_key='5a3ee2062e8d4818ad1dce27df9dc3e8')\n",
    "vn.connect_to_sqlite('https://vanna.ai/Chinook.sqlite')\n",
    "vn.ask('What are the top 10 artists by sales?')\n",
    "\n",
    "from vanna.flask import VannaFlaskApp\n",
    "VannaFlaskApp(vn).run()"
   ]
  },
  {
   "cell_type": "code",
   "execution_count": null,
   "id": "adda4635-77f4-40a5-a210-49ad989c2fd1",
   "metadata": {},
   "outputs": [],
   "source": []
  }
 ],
 "metadata": {
  "kernelspec": {
   "display_name": "Python 3 (ipykernel)",
   "language": "python",
   "name": "python3"
  },
  "language_info": {
   "codemirror_mode": {
    "name": "ipython",
    "version": 3
   },
   "file_extension": ".py",
   "mimetype": "text/x-python",
   "name": "python",
   "nbconvert_exporter": "python",
   "pygments_lexer": "ipython3",
   "version": "3.11.9"
  }
 },
 "nbformat": 4,
 "nbformat_minor": 5
}
