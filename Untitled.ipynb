{
 "cells": [
  {
   "cell_type": "code",
   "execution_count": 1,
   "id": "bc56bbfe-552a-4c90-9431-d932ebf7368a",
   "metadata": {},
   "outputs": [
    {
     "ename": "ModuleNotFoundError",
     "evalue": "No module named 'vanna.remote'; 'vanna' is not a package",
     "output_type": "error",
     "traceback": [
      "\u001b[0;31m---------------------------------------------------------------------------\u001b[0m",
      "\u001b[0;31mModuleNotFoundError\u001b[0m                       Traceback (most recent call last)",
      "Cell \u001b[0;32mIn[1], line 1\u001b[0m\n\u001b[0;32m----> 1\u001b[0m \u001b[38;5;28;01mfrom\u001b[39;00m \u001b[38;5;21;01mvanna\u001b[39;00m\u001b[38;5;21;01m.\u001b[39;00m\u001b[38;5;21;01mremote\u001b[39;00m \u001b[38;5;28;01mimport\u001b[39;00m VannaDefault\n\u001b[1;32m      2\u001b[0m vn \u001b[38;5;241m=\u001b[39m VannaDefault(model\u001b[38;5;241m=\u001b[39m\u001b[38;5;124m'\u001b[39m\u001b[38;5;124mchinook\u001b[39m\u001b[38;5;124m'\u001b[39m, api_key\u001b[38;5;241m=\u001b[39m\u001b[38;5;124m'\u001b[39m\u001b[38;5;124m5a3ee2062e8d4818ad1dce27df9dc3e8\u001b[39m\u001b[38;5;124m'\u001b[39m)\n\u001b[1;32m      3\u001b[0m vn\u001b[38;5;241m.\u001b[39mconnect_to_sqlite(\u001b[38;5;124m'\u001b[39m\u001b[38;5;124mhttps://vanna.ai/Chinook.sqlite\u001b[39m\u001b[38;5;124m'\u001b[39m)\n",
      "File \u001b[0;32m~/project/vanna.py:1\u001b[0m\n\u001b[0;32m----> 1\u001b[0m \u001b[38;5;28;01mfrom\u001b[39;00m \u001b[38;5;21;01mvanna\u001b[39;00m\u001b[38;5;21;01m.\u001b[39;00m\u001b[38;5;21;01mremote\u001b[39;00m \u001b[38;5;28;01mimport\u001b[39;00m VannaDefault\n\u001b[1;32m      2\u001b[0m vn \u001b[38;5;241m=\u001b[39m VannaDefault(model\u001b[38;5;241m=\u001b[39m\u001b[38;5;124m'\u001b[39m\u001b[38;5;124mchinook\u001b[39m\u001b[38;5;124m'\u001b[39m, api_key\u001b[38;5;241m=\u001b[39m\u001b[38;5;124m'\u001b[39m\u001b[38;5;124m5a3ee2062e8d4818ad1dce27df9dc3e8\u001b[39m\u001b[38;5;124m'\u001b[39m)\n\u001b[1;32m      3\u001b[0m vn\u001b[38;5;241m.\u001b[39mconnect_to_sqlite(\u001b[38;5;124m'\u001b[39m\u001b[38;5;124mhttps://vanna.ai/Chinook.sqlite\u001b[39m\u001b[38;5;124m'\u001b[39m)\n",
      "\u001b[0;31mModuleNotFoundError\u001b[0m: No module named 'vanna.remote'; 'vanna' is not a package"
     ]
    }
   ],
   "source": [
    "from vanna.remote import VannaDefault\n",
    "vn = VannaDefault(model='chinook', api_key='5a3ee2062e8d4818ad1dce27df9dc3e8')\n",
    "vn.connect_to_sqlite('https://vanna.ai/Chinook.sqlite')\n",
    "vn.ask('What are the top 10 artists by sales?')\n",
    "\n",
    "from vanna.flask import VannaFlaskApp\n",
    "VannaFlaskApp(vn).run()"
   ]
  },
  {
   "cell_type": "code",
   "execution_count": 2,
   "id": "7e2018fd-1121-4042-bde6-1fae6373d831",
   "metadata": {},
   "outputs": [
    {
     "name": "stdout",
     "output_type": "stream",
     "text": [
      "Requirement already satisfied: vanna in /Users/diaomin/.pyenv/versions/3.11.9/lib/python3.11/site-packages (0.7.5)\n",
      "Requirement already satisfied: requests in /Users/diaomin/.pyenv/versions/3.11.9/lib/python3.11/site-packages (from vanna) (2.32.2)\n",
      "Requirement already satisfied: tabulate in /Users/diaomin/.pyenv/versions/3.11.9/lib/python3.11/site-packages (from vanna) (0.9.0)\n",
      "Requirement already satisfied: plotly in /Users/diaomin/.pyenv/versions/3.11.9/lib/python3.11/site-packages (from vanna) (5.24.1)\n",
      "Requirement already satisfied: pandas in /Users/diaomin/.pyenv/versions/3.11.9/lib/python3.11/site-packages (from vanna) (2.2.3)\n",
      "Requirement already satisfied: sqlparse in /Users/diaomin/.pyenv/versions/3.11.9/lib/python3.11/site-packages (from vanna) (0.5.1)\n",
      "Requirement already satisfied: kaleido in /Users/diaomin/.pyenv/versions/3.11.9/lib/python3.11/site-packages (from vanna) (0.2.1)\n",
      "Requirement already satisfied: flask in /Users/diaomin/.pyenv/versions/3.11.9/lib/python3.11/site-packages (from vanna) (3.0.3)\n",
      "Requirement already satisfied: flask-sock in /Users/diaomin/.pyenv/versions/3.11.9/lib/python3.11/site-packages (from vanna) (0.7.0)\n",
      "Requirement already satisfied: flasgger in /Users/diaomin/.pyenv/versions/3.11.9/lib/python3.11/site-packages (from vanna) (0.9.7.1)\n",
      "Requirement already satisfied: sqlalchemy in /Users/diaomin/.pyenv/versions/3.11.9/lib/python3.11/site-packages (from vanna) (2.0.35)\n",
      "Requirement already satisfied: PyYAML>=3.0 in /Users/diaomin/.pyenv/versions/3.11.9/lib/python3.11/site-packages (from flasgger->vanna) (6.0.2)\n",
      "Requirement already satisfied: jsonschema>=3.0.1 in /Users/diaomin/.pyenv/versions/3.11.9/lib/python3.11/site-packages (from flasgger->vanna) (4.23.0)\n",
      "Requirement already satisfied: mistune in /Users/diaomin/.pyenv/versions/3.11.9/lib/python3.11/site-packages (from flasgger->vanna) (3.0.2)\n",
      "Requirement already satisfied: six>=1.10.0 in /Users/diaomin/.pyenv/versions/3.11.9/lib/python3.11/site-packages (from flasgger->vanna) (1.16.0)\n",
      "Requirement already satisfied: packaging in /Users/diaomin/.pyenv/versions/3.11.9/lib/python3.11/site-packages (from flasgger->vanna) (24.1)\n",
      "Requirement already satisfied: Werkzeug>=3.0.0 in /Users/diaomin/.pyenv/versions/3.11.9/lib/python3.11/site-packages (from flask->vanna) (3.0.6)\n",
      "Requirement already satisfied: Jinja2>=3.1.2 in /Users/diaomin/.pyenv/versions/3.11.9/lib/python3.11/site-packages (from flask->vanna) (3.1.4)\n",
      "Requirement already satisfied: itsdangerous>=2.1.2 in /Users/diaomin/.pyenv/versions/3.11.9/lib/python3.11/site-packages (from flask->vanna) (2.2.0)\n",
      "Requirement already satisfied: click>=8.1.3 in /Users/diaomin/.pyenv/versions/3.11.9/lib/python3.11/site-packages (from flask->vanna) (8.1.7)\n",
      "Requirement already satisfied: blinker>=1.6.2 in /Users/diaomin/.pyenv/versions/3.11.9/lib/python3.11/site-packages (from flask->vanna) (1.8.2)\n",
      "Requirement already satisfied: simple-websocket>=0.5.1 in /Users/diaomin/.pyenv/versions/3.11.9/lib/python3.11/site-packages (from flask-sock->vanna) (1.1.0)\n",
      "Requirement already satisfied: numpy>=1.23.2 in /Users/diaomin/.pyenv/versions/3.11.9/lib/python3.11/site-packages (from pandas->vanna) (2.1.0)\n",
      "Requirement already satisfied: python-dateutil>=2.8.2 in /Users/diaomin/.pyenv/versions/3.11.9/lib/python3.11/site-packages (from pandas->vanna) (2.9.0.post0)\n",
      "Requirement already satisfied: pytz>=2020.1 in /Users/diaomin/.pyenv/versions/3.11.9/lib/python3.11/site-packages (from pandas->vanna) (2024.2)\n",
      "Requirement already satisfied: tzdata>=2022.7 in /Users/diaomin/.pyenv/versions/3.11.9/lib/python3.11/site-packages (from pandas->vanna) (2024.2)\n",
      "Requirement already satisfied: tenacity>=6.2.0 in /Users/diaomin/.pyenv/versions/3.11.9/lib/python3.11/site-packages (from plotly->vanna) (9.0.0)\n",
      "Requirement already satisfied: charset-normalizer<4,>=2 in /Users/diaomin/.pyenv/versions/3.11.9/lib/python3.11/site-packages (from requests->vanna) (3.3.2)\n",
      "Requirement already satisfied: idna<4,>=2.5 in /Users/diaomin/.pyenv/versions/3.11.9/lib/python3.11/site-packages (from requests->vanna) (3.10)\n",
      "Requirement already satisfied: urllib3<3,>=1.21.1 in /Users/diaomin/.pyenv/versions/3.11.9/lib/python3.11/site-packages (from requests->vanna) (2.2.3)\n",
      "Requirement already satisfied: certifi>=2017.4.17 in /Users/diaomin/.pyenv/versions/3.11.9/lib/python3.11/site-packages (from requests->vanna) (2024.8.30)\n",
      "Requirement already satisfied: typing-extensions>=4.6.0 in /Users/diaomin/.pyenv/versions/3.11.9/lib/python3.11/site-packages (from sqlalchemy->vanna) (4.12.2)\n",
      "Requirement already satisfied: MarkupSafe>=2.0 in /Users/diaomin/.pyenv/versions/3.11.9/lib/python3.11/site-packages (from Jinja2>=3.1.2->flask->vanna) (2.1.5)\n",
      "Requirement already satisfied: attrs>=22.2.0 in /Users/diaomin/.pyenv/versions/3.11.9/lib/python3.11/site-packages (from jsonschema>=3.0.1->flasgger->vanna) (24.2.0)\n",
      "Requirement already satisfied: jsonschema-specifications>=2023.03.6 in /Users/diaomin/.pyenv/versions/3.11.9/lib/python3.11/site-packages (from jsonschema>=3.0.1->flasgger->vanna) (2023.12.1)\n",
      "Requirement already satisfied: referencing>=0.28.4 in /Users/diaomin/.pyenv/versions/3.11.9/lib/python3.11/site-packages (from jsonschema>=3.0.1->flasgger->vanna) (0.35.1)\n",
      "Requirement already satisfied: rpds-py>=0.7.1 in /Users/diaomin/.pyenv/versions/3.11.9/lib/python3.11/site-packages (from jsonschema>=3.0.1->flasgger->vanna) (0.20.0)\n",
      "Requirement already satisfied: wsproto in /Users/diaomin/.pyenv/versions/3.11.9/lib/python3.11/site-packages (from simple-websocket>=0.5.1->flask-sock->vanna) (1.2.0)\n",
      "Requirement already satisfied: h11<1,>=0.9.0 in /Users/diaomin/.pyenv/versions/3.11.9/lib/python3.11/site-packages (from wsproto->simple-websocket>=0.5.1->flask-sock->vanna) (0.14.0)\n",
      "\n",
      "\u001b[1m[\u001b[0m\u001b[34;49mnotice\u001b[0m\u001b[1;39;49m]\u001b[0m\u001b[39;49m A new release of pip is available: \u001b[0m\u001b[31;49m24.0\u001b[0m\u001b[39;49m -> \u001b[0m\u001b[32;49m24.3.1\u001b[0m\n",
      "\u001b[1m[\u001b[0m\u001b[34;49mnotice\u001b[0m\u001b[1;39;49m]\u001b[0m\u001b[39;49m To update, run: \u001b[0m\u001b[32;49mpip install --upgrade pip\u001b[0m\n",
      "Note: you may need to restart the kernel to use updated packages.\n"
     ]
    }
   ],
   "source": [
    "pip install vanna"
   ]
  },
  {
   "cell_type": "code",
   "execution_count": null,
   "id": "f32a9651-57c5-4064-b3c9-cfea106fb2be",
   "metadata": {},
   "outputs": [],
   "source": []
  }
 ],
 "metadata": {
  "kernelspec": {
   "display_name": "Python 3 (ipykernel)",
   "language": "python",
   "name": "python3"
  },
  "language_info": {
   "codemirror_mode": {
    "name": "ipython",
    "version": 3
   },
   "file_extension": ".py",
   "mimetype": "text/x-python",
   "name": "python",
   "nbconvert_exporter": "python",
   "pygments_lexer": "ipython3",
   "version": "3.11.9"
  }
 },
 "nbformat": 4,
 "nbformat_minor": 5
}
